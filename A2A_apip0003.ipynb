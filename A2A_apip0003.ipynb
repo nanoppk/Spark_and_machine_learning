{
 "cells": [
  {
   "cell_type": "markdown",
   "metadata": {},
   "source": [
    "# FIT5202 Assignment 2A : Building models to predict future eCommerce sales\n",
    "\n",
    "## Table of Contents\n",
    "*  \n",
    "    * [Part 1 : Data Loading, Transformation and Exploration](#part-1)\n",
    "    * [Part 2 : Feature extraction and ML training](#part-2)\n",
    "    * [Part 3 : Customer Segmentation and Knowledge sharing with K-Mean](#part-3)\n",
    "    * [Part 4 : Data Ethics, Privacy, and Security](#part-4)\n",
    " \n",
    "Please add code/markdown cells as you need."
   ]
  },
  {
   "cell_type": "markdown",
   "metadata": {},
   "source": [
    "# Part 1: Data Loading, Transformation and Exploration <a class=\"anchor\" name=\"part-1\"></a>\n",
    "## 1.1 Data Loading\n",
    "In this section, you will need to load the given datasets into PySpark DataFrames and use DataFrame functions to process the data. Usage of Spark SQL is discouraged, and your can only use pandas to format results. For plotting, different visualisation packages can be used, but please ensure that you have included instructions to install the additional packages and the installation will be successful in the provided docker container(in case your marker needs to clear the notebook and rerun it).\n",
    "\n",
    "### 1.1.1 Data Loading <a class=\"anchor\" name=\"1.1\"></a>\n",
    "Write the code to create a SparkSession. For creating the SparkSession, you need to use a SparkConf object to configure the Spark app with a proper application name, to ensure the maximum partition size not exceed 20MB, and to run locally with all CPU cores on your machine (note: if you have insufficient RAM, reducing the number of cores is also acceptable.)"
   ]
  },
  {
   "cell_type": "code",
   "execution_count": 1,
   "metadata": {},
   "outputs": [],
   "source": [
    "from pyspark import SparkConf\n",
    "from pyspark.sql import SparkSession \n",
    "from pyspark import SparkContext\n",
    "\n",
    "\n",
    "\n",
    "master = \"local[*]\"\n",
    "app_name = \"MOTH TradeHub\"\n",
    "max_partition_size = \"\"\n",
    "\n",
    "spark_conf = SparkConf().setMaster(master).setAppName(app_name).set(\"spark.sql.files.maxPartitionBytes\", 20 * 1024 * 1024)\n",
    "\n",
    "spark = SparkSession.builder.config(conf= spark_conf).getOrCreate()\n",
    "sc = spark.sparkContext\n",
    "sc.setLogLevel('ERROR')"
   ]
  },
  {
   "cell_type": "markdown",
   "metadata": {},
   "source": [
    "1.1.2 Write code to define the schemas for category, customer, product, clickstream and transaction datasets, following the data types suggested in the metadata file."
   ]
  },
  {
   "cell_type": "code",
   "execution_count": 2,
   "metadata": {},
   "outputs": [],
   "source": [
    "from pyspark.sql import functions as F\n",
    "from pyspark.sql.types import IntegerType, FloatType\n",
    "from pyspark.sql.types import StructType, StructField, StringType, TimestampType, DateType"
   ]
  },
  {
   "cell_type": "code",
   "execution_count": 3,
   "metadata": {},
   "outputs": [],
   "source": [
    "# predefine all schemas\n",
    "category_schema = StructType([\n",
    "    StructField(\"#\", StringType(), True),\n",
    "    StructField(\"category_id\", StringType(), True),\n",
    "    StructField(\"cat_level1\", StringType(), True),\n",
    "    StructField(\"cat_level2\", StringType(), True),\n",
    "    StructField(\"cat_level3\", StringType(), True)\n",
    "])\n",
    "\n",
    "\n",
    "customer_schema = StructType([\n",
    "    StructField(\"#\", StringType(), True),  \n",
    "    StructField(\"customer_id\", StringType(), True),\n",
    "    StructField(\"first_name\", StringType(), True),\n",
    "    StructField(\"last_name\", StringType(), True),\n",
    "    StructField(\"user_name\", StringType(), True),\n",
    "    StructField(\"email\", StringType(), True),\n",
    "    StructField(\"gender\", StringType(), True),\n",
    "    StructField(\"birthdate\", DateType(), True),\n",
    "    StructField(\"device_type\", StringType(), True),\n",
    "    StructField(\"device_id\", StringType(), True),\n",
    "    StructField(\"device_version\", StringType(), True),\n",
    "    StructField(\"home_location_lat\", FloatType(), True),\n",
    "    StructField(\"home_location_long\", FloatType(), True),\n",
    "    StructField(\"home_location\", StringType(), True),\n",
    "    StructField(\"home_country\", StringType(), True),\n",
    "    StructField(\"first_join_date\", DateType(), True)\n",
    "])\n",
    "\n",
    "product_schema = StructType([\n",
    "    StructField(\"#\", StringType(), True),\n",
    "    StructField(\"id\", StringType(), True),\n",
    "    StructField(\"gender\", StringType(), True),\n",
    "    StructField(\"baseColour\", StringType(), True),\n",
    "    StructField(\"season\", StringType(), True),\n",
    "    StructField(\"year\", IntegerType(), True),\n",
    "    StructField(\"usage\", StringType(), True),\n",
    "    StructField(\"productDisplayName\", StringType(), True),\n",
    "    StructField(\"category_id\", StringType(), True)\n",
    "])\n",
    "\n",
    "\n",
    "click_stream_schema = StructType([\n",
    "    StructField(\"#\", StringType(), True),\n",
    "    StructField(\"session_id\", StringType(), True),\n",
    "    StructField(\"event_name\", StringType(), True),\n",
    "    StructField(\"event_time\", TimestampType(), True),\n",
    "    StructField(\"event_id\", StringType(), True),\n",
    "    StructField(\"traffic_source\", StringType(), True),\n",
    "    StructField(\"event_metadata\", StringType(), True)\n",
    "])\n",
    "\n",
    "\n",
    "transaction_schema = StructType([\n",
    "    StructField(\"#\", StringType(), True),\n",
    "    StructField(\"created_at\", TimestampType(), True),\n",
    "    StructField(\"customer_id\", StringType(), True),\n",
    "    StructField(\"booking_id\", StringType(), True),\n",
    "    StructField(\"session_id\", StringType(), True),\n",
    "    StructField(\"product_metadata\", StringType(), True),\n",
    "    StructField(\"payment_method\", StringType(), True),\n",
    "    StructField(\"payment_status\", StringType(), True),\n",
    "    StructField(\"promo_amount\", FloatType(), True),\n",
    "    StructField(\"promo_code\", StringType(), True),\n",
    "    StructField(\"shipment_fee\", FloatType(), True),\n",
    "    StructField(\"shipment_date_limit\", TimestampType(), True),\n",
    "    StructField(\"shipment_location_lat\", FloatType(), True),\n",
    "    StructField(\"shipment_location_long\", FloatType(), True),\n",
    "    StructField(\"total_amount\", FloatType(), True)\n",
    "])"
   ]
  },
  {
   "cell_type": "markdown",
   "metadata": {},
   "source": [
    "1.1.3 Using predefined schema, write code to load the csv files into separate dataframes. Print the schemas of all dataframes."
   ]
  },
  {
   "cell_type": "code",
   "execution_count": 4,
   "metadata": {},
   "outputs": [],
   "source": [
    "# loading all files and use predefined schemas\n",
    "df_category = spark.read.csv(\"category.csv\", header= True, schema= category_schema, escape= '\"')\n",
    "df_customer = spark.read.csv(\"customer.csv\", header= True, schema= customer_schema, escape= '\"')\n",
    "df_product = spark.read.csv(\"product.csv\", header= True, schema= product_schema, escape= '\"')\n",
    "df_click_stream = spark.read.csv(\"click_stream.csv\", header= True, schema= click_stream_schema)\n",
    "df_transactions = spark.read.csv(\"new_transactions.csv\", header= True, schema= transaction_schema, escape= '\"')"
   ]
  },
  {
   "cell_type": "code",
   "execution_count": 7,
   "metadata": {},
   "outputs": [
    {
     "name": "stdout",
     "output_type": "stream",
     "text": [
      "+--------------------------+\n",
      "|event_time                |\n",
      "+--------------------------+\n",
      "|2019-09-06 15:54:32.821085|\n",
      "|2019-09-06 16:03:57.821085|\n",
      "|2019-09-01 12:05:10.322763|\n",
      "|2019-09-01 12:06:33.322763|\n",
      "|2019-09-01 12:07:00.322763|\n",
      "+--------------------------+\n",
      "only showing top 5 rows\n",
      "\n"
     ]
    }
   ],
   "source": [
    "df_click_stream.select(\"event_time\").show(5, truncate=False)"
   ]
  },
  {
   "cell_type": "code",
   "execution_count": 5,
   "metadata": {},
   "outputs": [
    {
     "name": "stdout",
     "output_type": "stream",
     "text": [
      "root\n",
      " |-- #: string (nullable = true)\n",
      " |-- category_id: string (nullable = true)\n",
      " |-- cat_level1: string (nullable = true)\n",
      " |-- cat_level2: string (nullable = true)\n",
      " |-- cat_level3: string (nullable = true)\n",
      "\n"
     ]
    }
   ],
   "source": [
    "df_category.printSchema()"
   ]
  },
  {
   "cell_type": "code",
   "execution_count": 6,
   "metadata": {},
   "outputs": [
    {
     "name": "stdout",
     "output_type": "stream",
     "text": [
      "root\n",
      " |-- #: string (nullable = true)\n",
      " |-- customer_id: string (nullable = true)\n",
      " |-- first_name: string (nullable = true)\n",
      " |-- last_name: string (nullable = true)\n",
      " |-- user_name: string (nullable = true)\n",
      " |-- email: string (nullable = true)\n",
      " |-- gender: string (nullable = true)\n",
      " |-- birthdate: date (nullable = true)\n",
      " |-- device_type: string (nullable = true)\n",
      " |-- device_id: string (nullable = true)\n",
      " |-- device_version: string (nullable = true)\n",
      " |-- home_location_lat: float (nullable = true)\n",
      " |-- home_location_long: float (nullable = true)\n",
      " |-- home_location: string (nullable = true)\n",
      " |-- home_country: string (nullable = true)\n",
      " |-- first_join_date: date (nullable = true)\n",
      "\n"
     ]
    }
   ],
   "source": [
    "df_customer.printSchema()"
   ]
  },
  {
   "cell_type": "code",
   "execution_count": 7,
   "metadata": {},
   "outputs": [
    {
     "name": "stdout",
     "output_type": "stream",
     "text": [
      "root\n",
      " |-- #: string (nullable = true)\n",
      " |-- id: string (nullable = true)\n",
      " |-- gender: string (nullable = true)\n",
      " |-- baseColour: string (nullable = true)\n",
      " |-- season: string (nullable = true)\n",
      " |-- year: integer (nullable = true)\n",
      " |-- usage: string (nullable = true)\n",
      " |-- productDisplayName: string (nullable = true)\n",
      " |-- category_id: string (nullable = true)\n",
      "\n"
     ]
    }
   ],
   "source": [
    "df_product.printSchema()"
   ]
  },
  {
   "cell_type": "code",
   "execution_count": 8,
   "metadata": {},
   "outputs": [
    {
     "name": "stdout",
     "output_type": "stream",
     "text": [
      "root\n",
      " |-- #: string (nullable = true)\n",
      " |-- session_id: string (nullable = true)\n",
      " |-- event_name: string (nullable = true)\n",
      " |-- event_time: timestamp (nullable = true)\n",
      " |-- event_id: string (nullable = true)\n",
      " |-- traffic_source: string (nullable = true)\n",
      " |-- event_metadata: string (nullable = true)\n",
      "\n"
     ]
    }
   ],
   "source": [
    "df_click_stream.printSchema()"
   ]
  },
  {
   "cell_type": "code",
   "execution_count": 9,
   "metadata": {},
   "outputs": [
    {
     "name": "stdout",
     "output_type": "stream",
     "text": [
      "root\n",
      " |-- #: string (nullable = true)\n",
      " |-- created_at: timestamp (nullable = true)\n",
      " |-- customer_id: string (nullable = true)\n",
      " |-- booking_id: string (nullable = true)\n",
      " |-- session_id: string (nullable = true)\n",
      " |-- product_metadata: string (nullable = true)\n",
      " |-- payment_method: string (nullable = true)\n",
      " |-- payment_status: string (nullable = true)\n",
      " |-- promo_amount: float (nullable = true)\n",
      " |-- promo_code: string (nullable = true)\n",
      " |-- shipment_fee: float (nullable = true)\n",
      " |-- shipment_date_limit: timestamp (nullable = true)\n",
      " |-- shipment_location_lat: float (nullable = true)\n",
      " |-- shipment_location_long: float (nullable = true)\n",
      " |-- total_amount: float (nullable = true)\n",
      "\n"
     ]
    }
   ],
   "source": [
    "df_transactions.printSchema()"
   ]
  },
  {
   "cell_type": "markdown",
   "metadata": {},
   "source": [
    "### 1.2 Data Transformation to Create Features <a class=\"anchor\" name=\"1.2\"></a>\n",
    "In the clickstream dataset, there are 9 types of events:  \n",
    "VIEW_PROMO, SCROLL, ADD_PROMO, VIEW_ITEM, CLICK, PURCHASE, ADD_TO_CART, HOMEPAGE, SEARCH  \n",
    "We categorize them into 3 different categories:  \n",
    "Category 1(high value actions - highly likely to purchase): ADD_PROMO, ADD_TO_CART  \n",
    "Category 2(medium value actions - likely to purchase): VIEW_PROMO, VIEW_ITEM, SEARCH  \n",
    "Category 3(low value actions - just browsing):  SCROLL, HOMEPAGE, CLICK  \n",
    "Perform the following tasks base on the clickstream dataframe and create a new dataframe.  "
   ]
  },
  {
   "cell_type": "code",
   "execution_count": 10,
   "metadata": {},
   "outputs": [],
   "source": [
    "# define udf for converting event names to categorical values \n",
    "def cat_event(data):\n",
    "    \"\"\"\n",
    "    This function is use for converting event name to categorical values\n",
    "    \"\"\"\n",
    "    cat_1 = [\"ADD_PROMO\", \"ADD_TO_CART\"]\n",
    "    cat_2 = [\"VIEW_PROMO\", \"VIEW_ITEM\", \"SEARCH\"]\n",
    "    cat_3 = [\"SCROLL\", \"HOMEPAGE\", \"CLICK\"]\n",
    "    \n",
    "    # create conditions for converting\n",
    "    if data in cat_1:\n",
    "        return \"Category 1\"\n",
    "    elif data in cat_2:\n",
    "        return \"Category 2\"\n",
    "    elif data in cat_3:\n",
    "        return \"Category 3\""
   ]
  },
  {
   "cell_type": "code",
   "execution_count": 11,
   "metadata": {},
   "outputs": [],
   "source": [
    "# register udf function to pyspark dataframe\n",
    "cat_event_udf = F.udf(cat_event, StringType())\n",
    "# apply udf function to the data frame\n",
    "feature_df = df_click_stream.withColumn(\"event_cat\", cat_event_udf(df_click_stream[\"event_name\"]))\n",
    "# drop if event_cat == na\n",
    "feature_df = feature_df.dropna(subset=[\"event_cat\"])"
   ]
  },
  {
   "cell_type": "code",
   "execution_count": 12,
   "metadata": {},
   "outputs": [
    {
     "name": "stdout",
     "output_type": "stream",
     "text": [
      "+---+--------------------+-----------+--------------------+--------------------+--------------+--------------------+----------+\n",
      "|  #|          session_id| event_name|          event_time|            event_id|traffic_source|      event_metadata| event_cat|\n",
      "+---+--------------------+-----------+--------------------+--------------------+--------------+--------------------+----------+\n",
      "|  1|fb0abf9e-fd1a-44d...|   HOMEPAGE|2019-09-06 15:54:...|9c4388c4-c95b-467...|        MOBILE|                null|Category 3|\n",
      "|  2|fb0abf9e-fd1a-44d...|     SCROLL|2019-09-06 16:03:...|4690e1f5-3f99-42d...|        MOBILE|                null|Category 3|\n",
      "|  3|7d440441-e67a-4d3...|   HOMEPAGE|2019-09-01 12:05:...|88aeaeb5-ec98-485...|        MOBILE|                null|Category 3|\n",
      "|  4|7d440441-e67a-4d3...|ADD_TO_CART|2019-09-01 12:06:...|934e306e-ecc6-472...|        MOBILE|{'product_id': 15...|Category 1|\n",
      "|  5|7d440441-e67a-4d3...|     SEARCH|2019-09-01 12:07:...|c952142b-4fe9-469...|        MOBILE|{'search_keywords...|Category 2|\n",
      "+---+--------------------+-----------+--------------------+--------------------+--------------+--------------------+----------+\n",
      "only showing top 5 rows\n",
      "\n"
     ]
    }
   ],
   "source": [
    "feature_df.show(5)"
   ]
  },
  {
   "cell_type": "markdown",
   "metadata": {},
   "source": [
    "1.2.1 For each unique session_id, count the number of actions in each category and create 3 columns(num_cat_highvalue, num_cat_midvalue, num_cat_lowvalue)."
   ]
  },
  {
   "cell_type": "code",
   "execution_count": 13,
   "metadata": {},
   "outputs": [],
   "source": [
    "# counting the number of each category in each session\n",
    "feature_df = feature_df.groupBy(\"session_id\", \"event_cat\").count()\n",
    "\n",
    "# change data from long to wide format\n",
    "feature_df = feature_df.groupBy(\"session_id\").pivot(\"event_cat\").sum(\"count\")\n",
    "\n",
    "# change columns names\n",
    "feature_df = feature_df.withColumnRenamed(\"Category 1\", \"num_cat_highvalue\")\\\n",
    "                           .withColumnRenamed(\"Category 2\", \"num_cat_midvalue\")\\\n",
    "                           .withColumnRenamed(\"Category 3\", \"num_cat_lowvalue\")\n",
    "\n",
    "# fill null in each\n",
    "feature_df = feature_df.fillna(0)"
   ]
  },
  {
   "cell_type": "code",
   "execution_count": 14,
   "metadata": {},
   "outputs": [
    {
     "name": "stdout",
     "output_type": "stream",
     "text": [
      "+--------------------+-----------------+----------------+----------------+\n",
      "|          session_id|num_cat_highvalue|num_cat_midvalue|num_cat_lowvalue|\n",
      "+--------------------+-----------------+----------------+----------------+\n",
      "|e7f689a1-28a0-4fe...|                1|               1|               3|\n",
      "|30f85513-ceae-452...|                1|               2|               2|\n",
      "|5ed58b7b-2382-4fc...|                2|              10|              17|\n",
      "|e855274d-543d-482...|                2|               2|               8|\n",
      "|7f2c9a70-a5d1-478...|                2|               5|              12|\n",
      "+--------------------+-----------------+----------------+----------------+\n",
      "only showing top 5 rows\n",
      "\n"
     ]
    }
   ],
   "source": [
    "feature_df.show(5)"
   ]
  },
  {
   "cell_type": "markdown",
   "metadata": {},
   "source": [
    "1.2.2. Create 2 columns with percentage ratio of high value action and low value actions. (i.e. high value ratio = (count of high value actions)/(total actions) * 100%)"
   ]
  },
  {
   "cell_type": "code",
   "execution_count": 15,
   "metadata": {},
   "outputs": [],
   "source": [
    "# create new column sum_actions\n",
    "feature_df = feature_df.withColumn(\"sum_actions\", F.expr(\"num_cat_highvalue + num_cat_midvalue + num_cat_lowvalue\"))\n",
    "\n",
    "# create high and low values ratio\n",
    "feature_df = feature_df.withColumn(\"high_value_ratio\", F.expr(\"num_cat_highvalue / sum_actions\"))\n",
    "feature_df = feature_df.withColumn(\"low_value_ratio\", F.expr(\"num_cat_lowvalue / sum_actions\"))"
   ]
  },
  {
   "cell_type": "code",
   "execution_count": 16,
   "metadata": {},
   "outputs": [
    {
     "name": "stdout",
     "output_type": "stream",
     "text": [
      "+--------------------+-----------------+----------------+----------------+-----------+-------------------+------------------+\n",
      "|          session_id|num_cat_highvalue|num_cat_midvalue|num_cat_lowvalue|sum_actions|   high_value_ratio|   low_value_ratio|\n",
      "+--------------------+-----------------+----------------+----------------+-----------+-------------------+------------------+\n",
      "|e7f689a1-28a0-4fe...|                1|               1|               3|          5|                0.2|               0.6|\n",
      "|30f85513-ceae-452...|                1|               2|               2|          5|                0.2|               0.4|\n",
      "|5ed58b7b-2382-4fc...|                2|              10|              17|         29|0.06896551724137931|0.5862068965517241|\n",
      "|e855274d-543d-482...|                2|               2|               8|         12|0.16666666666666666|0.6666666666666666|\n",
      "|7f2c9a70-a5d1-478...|                2|               5|              12|         19|0.10526315789473684| 0.631578947368421|\n",
      "+--------------------+-----------------+----------------+----------------+-----------+-------------------+------------------+\n",
      "only showing top 5 rows\n",
      "\n"
     ]
    }
   ],
   "source": [
    "feature_df.show(5)"
   ]
  },
  {
   "cell_type": "markdown",
   "metadata": {},
   "source": [
    "1.2.3 Create a new column “is_promotion” with value of 1 or 0 and add to feature_df. If there are “ADD_PROMO” actions in a session, set it to 1, otherwise 0."
   ]
  },
  {
   "cell_type": "code",
   "execution_count": 17,
   "metadata": {},
   "outputs": [],
   "source": [
    "# create new column consist of only ADD_PROMO\n",
    "df_is_promo = df_click_stream.filter(F.col(\"event_name\") == \"ADD_PROMO\")\n",
    "\n",
    "# join dataframe feature_df and df_promotion\n",
    "feature_df = feature_df.join(df_is_promo.select(\"session_id\", \"event_name\"), on=\"session_id\", how= \"left\")\n",
    "\n",
    "# create new column \"is_protion\" and assign boolean value 0,1\n",
    "feature_df = feature_df.withColumn(\"is_promotion\", F.when(F.col(\"event_name\") == \"ADD_PROMO\", \"1\")\\\n",
    "                                       .otherwise(\"0\")).drop(\"event_name\")"
   ]
  },
  {
   "cell_type": "code",
   "execution_count": 18,
   "metadata": {},
   "outputs": [
    {
     "name": "stdout",
     "output_type": "stream",
     "text": [
      "+------------+\n",
      "|is_promotion|\n",
      "+------------+\n",
      "|           1|\n",
      "|           0|\n",
      "|           0|\n",
      "|           0|\n",
      "|           1|\n",
      "+------------+\n",
      "only showing top 5 rows\n",
      "\n"
     ]
    }
   ],
   "source": [
    "feature_df.select(\"is_promotion\").show(5)"
   ]
  },
  {
   "cell_type": "markdown",
   "metadata": {},
   "source": [
    "1.2.4 For each unique session_id, base on event_time, extract the season. (note: The dataset is from Indonesia, Spring: Mar-May, Summer: Jun-Aug, Autumn: Sep-Nov, Winter: Dec-Feb)"
   ]
  },
  {
   "cell_type": "code",
   "execution_count": 19,
   "metadata": {},
   "outputs": [],
   "source": [
    "# import calendar library\n",
    "import calendar"
   ]
  },
  {
   "cell_type": "code",
   "execution_count": 20,
   "metadata": {},
   "outputs": [],
   "source": [
    "# create udf for converting moths to seasons\n",
    "def convert_month_season(data):\n",
    "    \"\"\"\n",
    "    input: date\n",
    "    output: season for particular month\n",
    "    description: The function is used for converting month to season\n",
    "    \"\"\"\n",
    "    # extract month from date\n",
    "    month = data.month\n",
    "    \n",
    "    # create conditions for each month\n",
    "    if month in (3, 4, 5):\n",
    "        return \"Spring\"\n",
    "    elif month in (6, 7, 8):\n",
    "        return \"Summer\"\n",
    "    elif month in (9, 10, 11):\n",
    "        return \"Autumn\"\n",
    "    elif month in (12, 1, 2):\n",
    "        return \"Winter\""
   ]
  },
  {
   "cell_type": "code",
   "execution_count": 21,
   "metadata": {},
   "outputs": [],
   "source": [
    "# register convert_month_season to dataframe\n",
    "convert_month_season_udf = F.udf(convert_month_season, StringType())\n",
    "\n",
    "# group session_id and find the max time\n",
    "df_season = df_click_stream.groupBy(\"session_id\").agg(F.max(\"event_time\").alias(\"event_time\"))\n",
    "\n",
    "# apply convert_month_season to the event_time, assign to season\n",
    "df_season = df_season.withColumn(\"season\", convert_month_season_udf(F.col(\"event_time\"))).select(\"session_id\", \"season\")\n",
    "\n",
    "# join feature_df and df_season\n",
    "feature_df = feature_df.join(df_season, on=\"session_id\", how= \"left\")"
   ]
  },
  {
   "cell_type": "code",
   "execution_count": 22,
   "metadata": {},
   "outputs": [
    {
     "name": "stdout",
     "output_type": "stream",
     "text": [
      "+------+\n",
      "|season|\n",
      "+------+\n",
      "|Autumn|\n",
      "|Spring|\n",
      "|Summer|\n",
      "|Spring|\n",
      "|Winter|\n",
      "+------+\n",
      "only showing top 5 rows\n",
      "\n"
     ]
    }
   ],
   "source": [
    "feature_df.select(\"season\").show(5)"
   ]
  },
  {
   "cell_type": "markdown",
   "metadata": {},
   "source": [
    "1.2.5 Join tables to find customer information and add columns to feature_df: gender, age, device type, home_location, first join year. (note: For some column, you need to perform transformation. For age, keep integer only.)"
   ]
  },
  {
   "cell_type": "code",
   "execution_count": 23,
   "metadata": {},
   "outputs": [],
   "source": [
    "# loading customer_session\n",
    "df_customer_session = spark.read.csv(\"customer_session.csv\", header=True, inferSchema=True, escape= '\"')"
   ]
  },
  {
   "cell_type": "code",
   "execution_count": 24,
   "metadata": {},
   "outputs": [],
   "source": [
    "# the number of distinct session id in df_customer_session != session id\n",
    "feature_df = feature_df.join(df_customer_session, on= \"session_id\", how= \"left\")\n",
    "\n",
    "# create customer_info dataframe\n",
    "customer_info = df_customer\\\n",
    "            .select(\"customer_id\", \"gender\", \"birthdate\", \"device_type\", \"home_location\", \"first_join_date\", \"device_version\")\n",
    "\n",
    "# create new column age then drop birthdate\n",
    "customer_info = customer_info.withColumn(\"age\", F.floor(F.datediff(F.current_date(), F.col(\"birthdate\")) / 365.25)\\\n",
    "                                         .cast(\"integer\")).drop(\"birthdate\")\n",
    "\n",
    "# extract first_join_year from first_join_date\n",
    "customer_info = customer_info.withColumn(\"first_join_year\", F.year(F.col(\"first_join_date\")))\\\n",
    "                                        .drop(\"first_join_date\")\n",
    "\n",
    "# join feature_df and custoemr_info\n",
    "feature_df = feature_df.join(customer_info, on= \"customer_id\", how= \"left\")\n",
    "\n",
    "# drop unwanted columns\n",
    "feature_df = feature_df.drop(\"sum_actions\", \"#\")"
   ]
  },
  {
   "cell_type": "code",
   "execution_count": 25,
   "metadata": {},
   "outputs": [
    {
     "name": "stdout",
     "output_type": "stream",
     "text": [
      "root\n",
      " |-- customer_id: integer (nullable = true)\n",
      " |-- session_id: string (nullable = true)\n",
      " |-- num_cat_highvalue: long (nullable = true)\n",
      " |-- num_cat_midvalue: long (nullable = true)\n",
      " |-- num_cat_lowvalue: long (nullable = true)\n",
      " |-- high_value_ratio: double (nullable = true)\n",
      " |-- low_value_ratio: double (nullable = true)\n",
      " |-- is_promotion: string (nullable = false)\n",
      " |-- season: string (nullable = true)\n",
      " |-- gender: string (nullable = true)\n",
      " |-- device_type: string (nullable = true)\n",
      " |-- home_location: string (nullable = true)\n",
      " |-- device_version: string (nullable = true)\n",
      " |-- age: integer (nullable = true)\n",
      " |-- first_join_year: integer (nullable = true)\n",
      "\n"
     ]
    }
   ],
   "source": [
    "feature_df.printSchema()"
   ]
  },
  {
   "cell_type": "markdown",
   "metadata": {},
   "source": [
    "1.2.6 Join tables to find out if the customer made purchase or not, and add to feature_df as 1 or 0. We will use this column as training label later."
   ]
  },
  {
   "cell_type": "code",
   "execution_count": 26,
   "metadata": {},
   "outputs": [],
   "source": [
    "# find status of purchase from transction payment_status\n",
    "df_pur = df_transactions.select(\"session_id\", \"payment_status\").filter(F.col(\"payment_status\") == \"Success\")\n",
    "\n",
    "# join feature_df and df_pur\n",
    "feature_df = feature_df.join(df_pur, on= \"session_id\", how= \"left\")\n",
    "\n",
    "# create new column is_purchase and assign value based on payment status then drop payment_status and customer_id\n",
    "feature_df = feature_df.withColumn(\"is_purchase\", F.when(F.col(\"payment_status\") == \"Success\", \"1\")\\\n",
    "                                   .otherwise(\"0\")).drop(\"payment_status\", \"customer_id\")"
   ]
  },
  {
   "cell_type": "code",
   "execution_count": 27,
   "metadata": {},
   "outputs": [
    {
     "name": "stdout",
     "output_type": "stream",
     "text": [
      "+-----------+\n",
      "|is_purchase|\n",
      "+-----------+\n",
      "|          1|\n",
      "|          1|\n",
      "|          0|\n",
      "|          1|\n",
      "|          1|\n",
      "+-----------+\n",
      "only showing top 5 rows\n",
      "\n"
     ]
    }
   ],
   "source": [
    "feature_df.select(\"is_purchase\").show(5)"
   ]
  },
  {
   "cell_type": "markdown",
   "metadata": {},
   "source": [
    "### 1.3 Exploring the Data <a class=\"anchor\" name=\"1.3\"></a>\n",
    "**1.3.1 With the feature_df, write code to show the basic statistics: a) For each numeric column, show count, mean, stddev, min, max, 25 percentile, 50 percentile, 75 percentile; b)For each non-numeric column, display the top-5 values and the corresponding counts; c) For each boolean column, display the value and count.**"
   ]
  },
  {
   "cell_type": "code",
   "execution_count": 28,
   "metadata": {},
   "outputs": [],
   "source": [
    "# import libaries for plotting \n",
    "import matplotlib.pyplot as plt\n",
    "import pandas as pd\n",
    "import seaborn as sns"
   ]
  },
  {
   "cell_type": "markdown",
   "metadata": {},
   "source": [
    " **a)** For each numeric column, show count, mean, stddev, min, max, 25 percentile, 50 percentile, 75 percentile;"
   ]
  },
  {
   "cell_type": "code",
   "execution_count": 29,
   "metadata": {},
   "outputs": [],
   "source": [
    "# get columns names and data type of each column\n",
    "col_data_type = feature_df.dtypes\n",
    "\n",
    "# for storing expression\n",
    "summary_expression = []\n",
    "\n",
    "# loop columns and use only numerical columns\n",
    "for col_name, col_type in col_data_type:\n",
    "    if col_type in (\"bigint\", \"double\", \"int\"):\n",
    "        summary_expression.extend([\n",
    "        F.count(col_name).alias(f\"{col_name}_count\"), # find count of each column\n",
    "        F.mean(col_name).alias(f\"{col_name}_mean\"),   # find mean of each column\n",
    "        F.stddev(col_name).alias(f\"{col_name}_stddev\"),  # find std of each column\n",
    "        F.min(col_name).alias(f\"{col_name}_min\"),  # find min of each column\n",
    "        F.max(col_name).alias(f\"{col_name}_max\"),  # find max of each column\n",
    "        F.expr(f\"percentile({col_name}, 0.25)\").alias(f\"{col_name}_25_percentile\"), # find 25 percentile \n",
    "        F.expr(f\"percentile({col_name}, 0.50)\").alias(f\"{col_name}_50_percentile\"), # find 50 percentile\n",
    "        F.expr(f\"percentile({col_name}, 0.75)\").alias(f\"{col_name}_75_percentile\") # find 0.75 percentile\n",
    "        ])\n",
    "\n",
    "# apply summary_expression to feature_df and turn it to dict\n",
    "summary_dict = feature_df.agg(*summary_expression).collect()[0].asDict()        "
   ]
  },
  {
   "cell_type": "code",
   "execution_count": 30,
   "metadata": {
    "scrolled": false
   },
   "outputs": [
    {
     "name": "stdout",
     "output_type": "stream",
     "text": [
      "num_cat_highvalue_count 895203\n",
      "num_cat_highvalue_mean 2.528691257737072\n",
      "num_cat_highvalue_stddev 2.2999561060121847\n",
      "num_cat_highvalue_min 0\n",
      "num_cat_highvalue_max 53\n",
      "num_cat_highvalue_25_percentile 1.0\n",
      "num_cat_highvalue_50_percentile 2.0\n",
      "num_cat_highvalue_75_percentile 3.0\n",
      "num_cat_midvalue_count 895203\n",
      "num_cat_midvalue_mean 3.4278180479734766\n",
      "num_cat_midvalue_stddev 4.475989272102879\n",
      "num_cat_midvalue_min 0\n",
      "num_cat_midvalue_max 157\n",
      "num_cat_midvalue_25_percentile 1.0\n",
      "num_cat_midvalue_50_percentile 2.0\n",
      "num_cat_midvalue_75_percentile 5.0\n",
      "num_cat_lowvalue_count 895203\n",
      "num_cat_lowvalue_mean 7.4270696143779675\n",
      "num_cat_lowvalue_stddev 9.239566040509864\n",
      "num_cat_lowvalue_min 1\n",
      "num_cat_lowvalue_max 512\n",
      "num_cat_lowvalue_25_percentile 2.0\n",
      "num_cat_lowvalue_50_percentile 5.0\n",
      "num_cat_lowvalue_75_percentile 9.0\n",
      "high_value_ratio_count 895203\n",
      "high_value_ratio_mean 0.26122778985537803\n",
      "high_value_ratio_stddev 0.17578152673812247\n",
      "high_value_ratio_min 0.0\n",
      "high_value_ratio_max 0.9666666666666667\n",
      "high_value_ratio_25_percentile 0.125\n",
      "high_value_ratio_50_percentile 0.25\n",
      "high_value_ratio_75_percentile 0.3333333333333333\n",
      "low_value_ratio_count 895203\n",
      "low_value_ratio_mean 0.5246474815501158\n",
      "low_value_ratio_stddev 0.16545222306586602\n",
      "low_value_ratio_min 0.01818181818181818\n",
      "low_value_ratio_max 1.0\n",
      "low_value_ratio_25_percentile 0.4\n",
      "low_value_ratio_50_percentile 0.5294117647058824\n",
      "low_value_ratio_75_percentile 0.6666666666666666\n",
      "age_count 852582\n",
      "age_mean 27.141752934028634\n",
      "age_stddev 7.286862588310062\n",
      "age_min 7\n",
      "age_max 69\n",
      "age_25_percentile 22.0\n",
      "age_50_percentile 26.0\n",
      "age_75_percentile 32.0\n",
      "first_join_year_count 852582\n",
      "first_join_year_mean 2018.674827758503\n",
      "first_join_year_stddev 1.67591566228586\n",
      "first_join_year_min 2016\n",
      "first_join_year_max 2022\n",
      "first_join_year_25_percentile 2017.0\n",
      "first_join_year_50_percentile 2019.0\n",
      "first_join_year_75_percentile 2020.0\n"
     ]
    }
   ],
   "source": [
    "# print all summary information of numerical columns\n",
    "for key, value in summary_dict.items():\n",
    "    print(key, value)"
   ]
  },
  {
   "cell_type": "markdown",
   "metadata": {},
   "source": [
    "**b)** For each non-numeric column, display the top-5 values and the corresponding counts."
   ]
  },
  {
   "cell_type": "code",
   "execution_count": 31,
   "metadata": {},
   "outputs": [
    {
     "name": "stdout",
     "output_type": "stream",
     "text": [
      "+--------------------+-----+\n",
      "|          session_id|count|\n",
      "+--------------------+-----+\n",
      "|000130b9-07d1-437...|    1|\n",
      "|00007415-e0e7-4a3...|    1|\n",
      "|0000a158-a793-4f6...|    1|\n",
      "|000593e4-535e-43f...|    1|\n",
      "|00008e68-a4d4-4b5...|    1|\n",
      "+--------------------+-----+\n",
      "only showing top 5 rows\n",
      "\n",
      "+------+------+\n",
      "|season| count|\n",
      "+------+------+\n",
      "|Spring|244427|\n",
      "|Summer|234689|\n",
      "|Winter|215604|\n",
      "|Autumn|200483|\n",
      "+------+------+\n",
      "\n",
      "+------+------+\n",
      "|gender| count|\n",
      "+------+------+\n",
      "|     F|543509|\n",
      "|     M|309073|\n",
      "|  null| 42621|\n",
      "+------+------+\n",
      "\n",
      "+-----------+------+\n",
      "|device_type| count|\n",
      "+-----------+------+\n",
      "|    Android|656809|\n",
      "|        iOS|195773|\n",
      "|       null| 42621|\n",
      "+-----------+------+\n",
      "\n",
      "+-------------+------+\n",
      "|home_location| count|\n",
      "+-------------+------+\n",
      "| Jakarta Raya|156698|\n",
      "|   Jawa Barat|101244|\n",
      "|  Jawa Tengah| 95240|\n",
      "|   Jawa Timur| 81106|\n",
      "|   Yogyakarta| 66444|\n",
      "+-------------+------+\n",
      "only showing top 5 rows\n",
      "\n",
      "+--------------+-----+\n",
      "|device_version|count|\n",
      "+--------------+-----+\n",
      "|          null|42621|\n",
      "|   Android 4.1|12335|\n",
      "|   Android 1.5|12205|\n",
      "| Android 2.3.6|12036|\n",
      "|   Android 1.0|11976|\n",
      "+--------------+-----+\n",
      "only showing top 5 rows\n",
      "\n"
     ]
    }
   ],
   "source": [
    "# dispay non-numeric and show top5 counting \n",
    "for col_name, col_type in col_data_type:\n",
    "    if col_type not in (\"bigint\", \"double\", \"int\") and col_name not in (\"is_promotion\", \"is_purchase\"):\n",
    "        feature_df.select(col_name).groupBy(col_name).count().orderBy(\"count\",ascending=False).show(5)"
   ]
  },
  {
   "cell_type": "markdown",
   "metadata": {},
   "source": [
    "**c)** For each boolean column, display the value and count."
   ]
  },
  {
   "cell_type": "code",
   "execution_count": 32,
   "metadata": {},
   "outputs": [
    {
     "name": "stdout",
     "output_type": "stream",
     "text": [
      "+------------+------+\n",
      "|is_promotion| count|\n",
      "+------------+------+\n",
      "|           0|568668|\n",
      "|           1|326535|\n",
      "+------------+------+\n",
      "\n",
      "+-----------+------+\n",
      "|is_purchase| count|\n",
      "+-----------+------+\n",
      "|          0|367391|\n",
      "|          1|527812|\n",
      "+-----------+------+\n",
      "\n"
     ]
    }
   ],
   "source": [
    "# show count of is_promotion and is_purchase\n",
    "feature_df.select(\"is_promotion\").groupBy(\"is_promotion\").count().show()\n",
    "feature_df.select(\"is_purchase\").groupBy(\"is_purchase\").count().show()"
   ]
  },
  {
   "cell_type": "markdown",
   "metadata": {},
   "source": [
    "**1.3.2 Explore the dataframe and write code to present two plots worthy of presentation to the company, describe your plots and discuss the findings from the plots.**\n",
    "- One of the plots needs to base on feature_df, you’re free to choose the other one.  \n",
    "- Hint: you can use the basic plots (e.g., histograms, line charts, scatter plots) for the relationship between a column and the label; or more advanced plots like correlation plots; 2: if your data is too large for the plotting, consider using sampling before plotting.  \n",
    "- 150 words max for each plot’s description and discussion  \n",
    "- Feel free to use any plotting libraries: matplotlib, seabon, plotly, etc.  \n",
    "- Please only use the provided data for visualisation  \n"
   ]
  },
  {
   "cell_type": "markdown",
   "metadata": {},
   "source": [
    "**First plot**"
   ]
  },
  {
   "cell_type": "code",
   "execution_count": 33,
   "metadata": {
    "scrolled": false
   },
   "outputs": [
    {
     "data": {
      "text/plain": [
       "Text(0, 0.5, 'Count')"
      ]
     },
     "execution_count": 33,
     "metadata": {},
     "output_type": "execute_result"
    },
    {
     "data": {
      "image/png": "[encoded data removed]",
      "text/plain": [
       "<Figure size 640x480 with 1 Axes>"
      ]
     },
     "metadata": {},
     "output_type": "display_data"
    }
   ],
   "source": [
    "# create dataframe for plotting\n",
    "count_is_purchase = feature_df.groupBy(\"is_purchase\").count().toPandas()\n",
    "# plot bar chart\n",
    "plt.bar(count_is_purchase['is_purchase'], count_is_purchase['count'])\n",
    "plt.xlabel('is_purchase')\n",
    "plt.ylabel('Count')"
   ]
  },
  {
   "cell_type": "markdown",
   "metadata": {},
   "source": [
    "**Discussion**\\\n",
    "The aim of the task is to predict the \"is_purchase\" based on the data for each customer. In a classification task, achieving class balance is crucial as it significantly impacts the quality of classification performance. When classes are highly imbalanced, there is a risk of poor classification performance, as the model tends to favor predicting the more frequently occurring class. From the visualisation, we can clearly see that the preidicted classes are slightly imbalance which is insignificant for classification task. Hence, the classification can be directly trained by this data without gather more customer data."
   ]
  },
  {
   "cell_type": "markdown",
   "metadata": {},
   "source": [
    "**Second plot**"
   ]
  },
  {
   "cell_type": "code",
   "execution_count": 34,
   "metadata": {},
   "outputs": [],
   "source": [
    "# create dataframe for plotting\n",
    "transaction_info = df_transactions.select(\"session_id\", \"total_amount\", \"shipment_fee\")\n",
    "transaction_info = feature_df.join(transaction_info, on= \"session_id\", how= \"left\").toPandas()\n",
    "sum_data = transaction_info.groupby([\"age\", \"is_purchase\"]).sum(\"total_amount\")"
   ]
  },
  {
   "cell_type": "code",
   "execution_count": 35,
   "metadata": {},
   "outputs": [
    {
     "data": {
      "text/plain": [
       "<Axes: xlabel='age', ylabel='total_amount'>"
      ]
     },
     "execution_count": 35,
     "metadata": {},
     "output_type": "execute_result"
    },
    {
     "data": {
      "image/png": "[encoded data removed]",
      "text/plain": [
       "<Figure size 640x480 with 1 Axes>"
      ]
     },
     "metadata": {},
     "output_type": "display_data"
    }
   ],
   "source": [
    "# potting line chart\n",
    "sns.lineplot(data= sum_data ,x= \"age\", y= \"total_amount\", hue= \"is_purchase\")"
   ]
  },
  {
   "cell_type": "markdown",
   "metadata": {},
   "source": [
    "**Discussion**\\\n",
    "From the line chart, it's evident that the spending on purchases increases with age, the purchasing total amount is peaking at around 25 years old, then declining rapidly and saturating after the age of 50. Notably, the purchasing amount consistently exceeds the non-purchasing amount across all age groups. Furthermore, the chart suggests that MOTH's primary marketing focus appears to be on the age group of 20-30. To boost sales, the company may need to allocate more attention to targeting other age demographics."
   ]
  },
  {
   "cell_type": "markdown",
   "metadata": {},
   "source": [
    "## Part 2. Feature extraction and ML training <a class=\"anchor\" name=\"part-2\"></a>\n",
    "In this section, you will need to use PySpark DataFrame functions and ML packages for data preparation, model building, and evaluation. Other ML packages, such as scikit-learn, would receive zero marks. Excessive usage of Spark SQL is discouraged.\n",
    "### 2.1 Discuss the feature selection and prepare the feature columns\n",
    "\n",
    "2.1.1 Based on the data exploration from 1.2 and considering the situation we have, discuss the importance of those features (For example, which features may be useless and should be removed, which feature has a great impact on the label column, which should be transformed) which features you are planning to use? Discuss the reasons for selecting them and how you create/transform them\n",
    "- 300 words max for the discussion\n",
    "- Please only use the provided data for model building\n",
    "- You can create/add additional feature/column based on the dataset\n",
    "- Hint - things to consider include whether to create more feature columns, whether to remove some columns, using the insights from the data exploration/domain knowledge/statistical models  "
   ]
  },
  {
   "cell_type": "markdown",
   "metadata": {},
   "source": [
    "**Selected features**\n",
    "  1. high_value_ratio, low_value_ration: It is calucalte from high and low impotance behavior, so I think it will help the prediction.\n",
    "  2. is_promotion: From the EDA process, custoemer tend to buy product when there is promotion.\n",
    "  3. season: EDA suggests that there might be seasonality pattern on purchasing activity.\n",
    "  4. gender: EDA suggests that female purchasing level is much higher than male customers.\n",
    "  5. device_type: Activity of between device types show sinificant level different of activity level.\n",
    "  6. home_location: From EDA, we can see most purchasing activities are in just a few major cities. \n",
    "  7. age: The plot from 1.3.2 show that there is a claer pattern of purchasing level according to age.\n",
    "  8. first_join_year: EDA, suggest that early customer tend to make more purchasing.\n",
    "  9. payment_method: difficulites of differnt methid might have an effects on consumer behaviors.\n",
    "\n",
    "**Remove features**\n",
    "  1. session_id: Because, session_id is used for tracking users which will not provide any information related to customers purchased behavior.\n",
    "  2. num_cat_highvalue, midvalue, lowvalue: Since, we already have the data of high_value_ratio, low_value_ration. It would be redundant if we use these features.\n",
    "  3. device_version: since, we already have device_type so device_versio is redundant data."
   ]
  },
  {
   "cell_type": "code",
   "execution_count": 36,
   "metadata": {
    "scrolled": true
   },
   "outputs": [
    {
     "name": "stdout",
     "output_type": "stream",
     "text": [
      "+----------+-----------------+----------------+----------------+----------------+---------------+------------+------+------+-----------+-------------+--------------+-----+---------------+-----------+\n",
      "|session_id|num_cat_highvalue|num_cat_midvalue|num_cat_lowvalue|high_value_ratio|low_value_ratio|is_promotion|season|gender|device_type|home_location|device_version|  age|first_join_year|is_purchase|\n",
      "+----------+-----------------+----------------+----------------+----------------+---------------+------------+------+------+-----------+-------------+--------------+-----+---------------+-----------+\n",
      "|         0|                0|               0|               0|               0|              0|           0|     0| 42621|      42621|        42621|         42621|42621|          42621|          0|\n",
      "+----------+-----------------+----------------+----------------+----------------+---------------+------------+------+------+-----------+-------------+--------------+-----+---------------+-----------+\n",
      "\n"
     ]
    }
   ],
   "source": [
    "from pyspark.sql.functions import isnan, when, count, col\n",
    "feature_df.select([count(when(isnan(c) | col(c).isNull(), c)).alias(c) for c in feature_df.columns]).show()"
   ]
  },
  {
   "cell_type": "markdown",
   "metadata": {},
   "source": [
    "2.1.2 Write code to create/transform the columns based on your discussion above\n",
    "- Hint: You can use one dataframe for both two use cases(classification and k-mean later in part 3) since you can select your desired columns as the input and output for each use case. \n"
   ]
  },
  {
   "cell_type": "code",
   "execution_count": 37,
   "metadata": {},
   "outputs": [],
   "source": [
    "# adding payment method, total_amount\n",
    "feature_df = feature_df\\\n",
    "            .join(df_transactions.select(\"session_id\", \"payment_method\", \"total_amount\"), on= \"session_id\", how= \"left\")\n",
    "\n",
    "# drop session_id\n",
    "feature_df = feature_df.dropna().drop(\"session_id\")"
   ]
  },
  {
   "cell_type": "markdown",
   "metadata": {},
   "source": [
    "### 2.2 Preparing Spark ML Transformers/Estimators for features, labels, and models  <a class=\"anchor\" name=\"2.2\"></a>\n",
    "\n",
    "**2.2.1 Write code to create Transformers/Estimators for transforming/assembling the columns you selected above in 2.1, and create ML model Estimators for Random Forest (RF) and Gradient-boosted tree (GBT) model.\n",
    "Please DO NOT fit/transform the data yet**"
   ]
  },
  {
   "cell_type": "code",
   "execution_count": 38,
   "metadata": {},
   "outputs": [],
   "source": [
    "from pyspark.ml.feature import StringIndexer\n",
    "from pyspark.ml.feature import OneHotEncoder\n",
    "from pyspark.ml.feature import VectorAssembler\n",
    "from pyspark.ml.classification import DecisionTreeClassifier\n",
    "from pyspark.ml import Pipeline\n",
    "\n",
    "from pyspark.ml.classification import RandomForestClassifier\n",
    "from pyspark.ml.classification import GBTClassifier\n",
    "\n",
    "from pyspark.ml.evaluation import BinaryClassificationEvaluator\n",
    "from pyspark.mllib.evaluation import BinaryClassificationMetrics"
   ]
  },
  {
   "cell_type": "code",
   "execution_count": 39,
   "metadata": {},
   "outputs": [],
   "source": [
    "# factors => is_promotion, season, gender, device_type, home_location, is_purchase\n",
    "catinput_cols = [\"is_promotion\", \"season\", \"gender\", \"device_type\", \"home_location\"]\n",
    "catoutput_col = \"is_purchase\"\n",
    "cat_cols = catinput_cols + [catoutput_col]\n",
    "num_cols = ['high_value_ratio', 'low_value_ratio', 'age', 'first_join_year']\n",
    "\n",
    "# define output index columns\n",
    "output_cols = [f'{x}_index' for x in catinput_cols]\n",
    "output_cols.append('label')\n",
    "# initiate string indexer\n",
    "input_indexer = StringIndexer(inputCols= cat_cols, outputCols= output_cols)\n",
    "\n",
    "# define in/output for ohe\n",
    "inputcols_OHE = [x for x in output_cols if x!='label']\n",
    "outputcols_OHE = [f\"{x}_vec\" for x in catinput_cols]\n",
    "# initiate ohe\n",
    "encoder = OneHotEncoder(inputCols= inputcols_OHE, outputCols= outputcols_OHE)\n",
    "\n",
    "# initiate assembler\n",
    "assembler_input = outputcols_OHE + num_cols\n",
    "assembler = VectorAssembler(inputCols= assembler_input, outputCol= \"features\")\n",
    "\n",
    "# define each stage\n",
    "stage_1 = input_indexer\n",
    "stage_2 = encoder\n",
    "stage_3 = assembler"
   ]
  },
  {
   "cell_type": "code",
   "execution_count": 40,
   "metadata": {},
   "outputs": [],
   "source": [
    "# rf model\n",
    "random_forest = RandomForestClassifier(labelCol= \"label\", featuresCol= \"features\", numTrees=100, seed=1)"
   ]
  },
  {
   "cell_type": "code",
   "execution_count": 41,
   "metadata": {},
   "outputs": [],
   "source": [
    "# GBT classifier\n",
    "gbt = GBTClassifier(labelCol=\"label\", featuresCol=\"features\", maxIter=10, seed=1)"
   ]
  },
  {
   "cell_type": "markdown",
   "metadata": {},
   "source": [
    "**2.2.2. Write code to include the above Transformers/Estimators into two pipelines.\n",
    "Please DO NOT fit/transform the data yet**"
   ]
  },
  {
   "cell_type": "code",
   "execution_count": 42,
   "metadata": {},
   "outputs": [],
   "source": [
    "# rf model pipe line\n",
    "rf_stages = [stage_1, stage_2, stage_3, random_forest]\n",
    "rf_pipeline = Pipeline(stages= rf_stages)"
   ]
  },
  {
   "cell_type": "code",
   "execution_count": 43,
   "metadata": {},
   "outputs": [],
   "source": [
    "# GBT model pipe line\n",
    "gbt_stages = [stage_1, stage_2, stage_3, gbt]\n",
    "gbt_pipeline = Pipeline(stages= gbt_stages)"
   ]
  },
  {
   "cell_type": "markdown",
   "metadata": {},
   "source": [
    "### 2.3 Preparing the training data and testing data  \n",
    "Write code to split the data for training and testing purposes.  \n",
    "Note: Due to the large size of the dataset, you can choose to use random sampling (say 20% of the dataset) and do a train/test split; or use one year of data for training and another year for testing. "
   ]
  },
  {
   "cell_type": "code",
   "execution_count": 44,
   "metadata": {},
   "outputs": [],
   "source": [
    "# change str to int\n",
    "feature_df = feature_df.withColumn(\"is_purchase\", F.col(\"is_purchase\").cast(IntegerType()))\n",
    "\n",
    "# sample data from main dataframe\n",
    "sample_data = feature_df.sample(fraction= 0.2, seed= 1)\n",
    "sample_data = sample_data.cache()\n",
    "\n",
    "# train test split\n",
    "train, test = sample_data.randomSplit([0.8, 0.2], seed= 1)"
   ]
  },
  {
   "cell_type": "markdown",
   "metadata": {},
   "source": [
    "### 2.4 Training and evaluating models  \n",
    "2.4.1 Write code to use the corresponding ML Pipelines to train the models on the training data from 2.3. And then use the trained models to predict the testing data from 2.3"
   ]
  },
  {
   "cell_type": "code",
   "execution_count": 45,
   "metadata": {},
   "outputs": [],
   "source": [
    "# fit pipelines\n",
    "rf_pipline_model = rf_pipeline.fit(train)\n",
    "gbt_pipeline_model = gbt_pipeline.fit(train)"
   ]
  },
  {
   "cell_type": "code",
   "execution_count": 46,
   "metadata": {},
   "outputs": [],
   "source": [
    "# transform test and predict test\n",
    "rf_prediction = rf_pipline_model.transform(test)\n",
    "gbt_prediction = gbt_pipeline_model.transform(test)"
   ]
  },
  {
   "cell_type": "markdown",
   "metadata": {},
   "source": [
    "2.4.2 For both models(RF and GBT) and testing data, write code to display the count of TP/TN/FP/FN. Compute the AUC, accuracy, recall, and precision for the above-threshold/below-threshold label from each model testing result using pyspark MLlib/ML APIs.\n",
    "- Draw a ROC plot.\n",
    "- Discuss which one is the better model(no word limit, please keep it concise)"
   ]
  },
  {
   "cell_type": "markdown",
   "metadata": {},
   "source": [
    "**Discussion**\\\n",
    "In this task, we will use defalut threshold at 0.5. To decide thredshold level is depend on a business task, for example, if we want to target all purchase customers, the thredshold will be low in order to have highest TPR.\\\n",
    "For model selection, we select from a model with higher AUC score which indicates prediction performance at every thredsholds. Hence, we will select GBT model which has higher AUC score."
   ]
  },
  {
   "cell_type": "code",
   "execution_count": 47,
   "metadata": {},
   "outputs": [],
   "source": [
    "def compute_metrics(predictions):\n",
    "    TN = predictions.filter(\"prediction = 0 AND label = prediction\").count()\n",
    "    TP = predictions.filter('prediction = 1 AND label = prediction').count()\n",
    "    FN = predictions.filter('prediction = 0 AND label <> prediction').count()\n",
    "    FP = predictions.filter('prediction = 1 AND label <> prediction').count()\n",
    "    \n",
    "    # calculate metrics by the confusion matrix\n",
    "    accuracy = (TN + TP) / (TN + TP + FN + FP)\n",
    "    precision = TP / (TP + FP)\n",
    "    recall = TP / (TP + FN)\n",
    "    f1 = 2/((1/recall)+(1/precision))\n",
    "    print(f\"\"\"\n",
    "    TN: {TN}\n",
    "    TP: {TP}\n",
    "    FN: {FN}\n",
    "    FP: {FP}\n",
    "    Accuracy: {accuracy}\n",
    "    Precision: {precision}\n",
    "    Recall: {recall}\n",
    "    F1: {f1}\n",
    "    \"\"\")"
   ]
  },
  {
   "cell_type": "code",
   "execution_count": 48,
   "metadata": {},
   "outputs": [
    {
     "name": "stdout",
     "output_type": "stream",
     "text": [
      "Random forest:\n",
      "\n",
      "    TN: 21193\n",
      "    TP: 6563\n",
      "    FN: 6421\n",
      "    FP: 36\n",
      "    Accuracy: 0.811270569666501\n",
      "    Precision: 0.9945446279739354\n",
      "    Recall: 0.5054682686383241\n",
      "    F1: 0.6702752387274676\n",
      "    \n"
     ]
    }
   ],
   "source": [
    "print(f\"Random forest:\")\n",
    "compute_metrics(rf_prediction)"
   ]
  },
  {
   "cell_type": "code",
   "execution_count": 49,
   "metadata": {},
   "outputs": [
    {
     "name": "stdout",
     "output_type": "stream",
     "text": [
      "GBT:\n",
      "\n",
      "    TN: 21180\n",
      "    TP: 6586\n",
      "    FN: 6398\n",
      "    FP: 49\n",
      "    Accuracy: 0.8115628562242423\n",
      "    Precision: 0.9926149208741523\n",
      "    Recall: 0.5072396796056685\n",
      "    F1: 0.671389979101891\n",
      "    \n"
     ]
    }
   ],
   "source": [
    "print(f\"GBT:\")\n",
    "compute_metrics(gbt_prediction)"
   ]
  },
  {
   "cell_type": "code",
   "execution_count": 50,
   "metadata": {},
   "outputs": [
    {
     "name": "stdout",
     "output_type": "stream",
     "text": [
      "0.8645378632595694\n",
      "areaUnderROC\n"
     ]
    }
   ],
   "source": [
    "evaluator = BinaryClassificationEvaluator(rawPredictionCol= \"rawPrediction\")\n",
    "auc_rf = evaluator.evaluate(rf_prediction)\n",
    "print(auc_rf)\n",
    "print(evaluator.getMetricName())"
   ]
  },
  {
   "cell_type": "code",
   "execution_count": 51,
   "metadata": {},
   "outputs": [
    {
     "name": "stdout",
     "output_type": "stream",
     "text": [
      "0.8735468169667698\n",
      "areaUnderROC\n"
     ]
    }
   ],
   "source": [
    "evaluator = BinaryClassificationEvaluator(rawPredictionCol= \"rawPrediction\")\n",
    "auc_gbt = evaluator.evaluate(gbt_prediction)\n",
    "print(auc_gbt)\n",
    "print(evaluator.getMetricName())"
   ]
  },
  {
   "cell_type": "code",
   "execution_count": 52,
   "metadata": {
    "scrolled": false
   },
   "outputs": [
    {
     "name": "stdout",
     "output_type": "stream",
     "text": [
      "Area Under ROC: 0.8645403973865138\n"
     ]
    },
    {
     "data": {
      "image/png": "[encoded data removed]",
      "text/plain": [
       "<Figure size 640x480 with 1 Axes>"
      ]
     },
     "metadata": {},
     "output_type": "display_data"
    }
   ],
   "source": [
    "# Create a BinaryClassificationEvaluator\n",
    "evaluator = BinaryClassificationEvaluator(rawPredictionCol=\"rawPrediction\")\n",
    "\n",
    "# Print AUC\n",
    "print(\"Area Under ROC: \" + str(evaluator.evaluate(rf_prediction, {evaluator.metricName: \"areaUnderROC\"})))\n",
    "\n",
    "# Plot ROC curve\n",
    "rf_model = rf_pipline_model.stages[-1]\n",
    "training_summary = rf_model.summary\n",
    "roc = training_summary.roc.toPandas()\n",
    "plt.plot(roc['FPR'], roc['TPR'])\n",
    "plt.ylabel('TPR')\n",
    "plt.xlabel('FPR')\n",
    "plt.title('ROC Curve')\n",
    "plt.show()"
   ]
  },
  {
   "cell_type": "code",
   "execution_count": 53,
   "metadata": {},
   "outputs": [],
   "source": [
    "# reference https://stackoverflow.com/questions/52847408/pyspark-extract-roc-curve\n",
    "class CurveMetrics(BinaryClassificationMetrics):\n",
    "    def __init__(self, *args):\n",
    "        super(CurveMetrics, self).__init__(*args)\n",
    "\n",
    "    def _to_list(self, rdd):\n",
    "        points = []\n",
    "        # Note this collect could be inefficient for large datasets \n",
    "        # considering there may be one probability per datapoint (at most)\n",
    "        # The Scala version takes a numBins parameter, \n",
    "        # but it doesn't seem possible to pass this from Python to Java\n",
    "        for row in rdd.collect():\n",
    "            # Results are returned as type scala.Tuple2, \n",
    "            # which doesn't appear to have a py4j mapping\n",
    "            points += [(float(row._1()), float(row._2()))]\n",
    "        return points\n",
    "\n",
    "    def get_curve(self, method):\n",
    "        rdd = getattr(self._java_model, method)().toJavaRDD()\n",
    "        return self._to_list(rdd)"
   ]
  },
  {
   "cell_type": "code",
   "execution_count": 54,
   "metadata": {},
   "outputs": [
    {
     "name": "stderr",
     "output_type": "stream",
     "text": [
      "/opt/conda/lib/python3.10/site-packages/pyspark/sql/context.py:157: FutureWarning: Deprecated in 3.0.0. Use SparkSession.builder.getOrCreate() instead.\n",
      "  warnings.warn(\n"
     ]
    },
    {
     "data": {
      "text/plain": [
       "[<matplotlib.lines.Line2D at 0x7f6d76023bb0>]"
      ]
     },
     "execution_count": 54,
     "metadata": {},
     "output_type": "execute_result"
    },
    {
     "data": {
      "image/png": "[encoded data removed]",
      "text/plain": [
       "<Figure size 640x480 with 1 Axes>"
      ]
     },
     "metadata": {},
     "output_type": "display_data"
    }
   ],
   "source": [
    "# Returns as a list (false positive rate, true positive rate)\n",
    "preds = gbt_prediction.select('label','probability').rdd.map(lambda row: (float(row['probability'][1]), float(row['label'])))\n",
    "points = CurveMetrics(preds).get_curve('roc')\n",
    "\n",
    "plt.figure()\n",
    "x_val = [x[0] for x in points]\n",
    "y_val = [x[1] for x in points]\n",
    "plt.ylabel('TPR')\n",
    "plt.xlabel('FPR')\n",
    "plt.title('ROC Curve')\n",
    "plt.plot(x_val, y_val)"
   ]
  },
  {
   "cell_type": "markdown",
   "metadata": {},
   "source": [
    "2.4.3 Save the better model, we will need this for Part B of assignment 2.  \n",
    "(note: You may need to go through a few training loops or use more data to create a better-performing model.)"
   ]
  },
  {
   "cell_type": "code",
   "execution_count": 55,
   "metadata": {},
   "outputs": [],
   "source": [
    "# save model\n",
    "gbt_pipeline_model.save(\"gbt_pipeline_model\")"
   ]
  },
  {
   "cell_type": "code",
   "execution_count": 56,
   "metadata": {},
   "outputs": [
    {
     "data": {
      "text/plain": [
       "DataFrame[num_cat_highvalue: bigint, num_cat_midvalue: bigint, num_cat_lowvalue: bigint, high_value_ratio: double, low_value_ratio: double, is_promotion: string, season: string, gender: string, device_type: string, home_location: string, device_version: string, age: int, first_join_year: int, is_purchase: int, payment_method: string, total_amount: float]"
      ]
     },
     "execution_count": 56,
     "metadata": {},
     "output_type": "execute_result"
    }
   ],
   "source": [
    "# release cache\n",
    "sample_data.unpersist()"
   ]
  },
  {
   "cell_type": "markdown",
   "metadata": {},
   "source": [
    "### Part 3. Customer Segmentation and Knowledge sharing with K-Mean <a class=\"anchor\" name=\"part-3\"></a>  \n",
    "Please see the specification for this task and add code/markdown cells."
   ]
  },
  {
   "cell_type": "markdown",
   "metadata": {},
   "source": [
    "**Discussion**\n",
    "The steps for bulding clustering model as follow:\n",
    "1. Features selection\n",
    "2. Evaluate by using Silhouette score, the higher the better.\n",
    "\n",
    "The cluster model development.\n",
    "1. Utilized features based on hypothesis.\n",
    "2. The first model provided Silhouette score 0.7\n",
    "3. Then find other features that might imporve the score. When consider customer segments problem, total_amount might separate different customer groups, eg. high spender, low spender.\n",
    "4. For the seccond model the score is 0.94 which mean that total_amount is highly important for customer clustering.\n",
    "\n",
    "Scaling\\\n",
    "From observation, it suggested that value ranges is highly various. Which indicated that the data might need to be standardised before training model. However, the test score after standardising was decline notably, hence, we will not scaling features for final clustering model.\\\n",
    "\n",
    "Best k groups\\\n",
    "By using various k range from 2 to 9, we can see that k at 2 provides the best Silhouette score 0.94.\\\n",
    "\n",
    "Segmentation recommendation\\\n",
    "The customer groups is mainly defined by bussiness task operation. For example, if the marketing team has budget for 3 customer groups, it will be more suitable to cluster customers in 3 groups.\n"
   ]
  },
  {
   "cell_type": "code",
   "execution_count": 57,
   "metadata": {},
   "outputs": [],
   "source": [
    "from pyspark.ml.evaluation import ClusteringEvaluator\n",
    "from pyspark.ml.clustering import KMeans\n",
    "from pyspark.ml.feature import StandardScaler"
   ]
  },
  {
   "cell_type": "code",
   "execution_count": 58,
   "metadata": {},
   "outputs": [],
   "source": [
    "# select interested features\n",
    "selected_features = [\"season\", \"gender\", \"home_location\", \"device_version\", \"age\", \"total_amount\"]\n",
    "\n",
    "# create new dataframe to select only interested features\n",
    "cluster_df = feature_df.select(selected_features)\n",
    "cluster_df =cluster_df.cache()"
   ]
  },
  {
   "cell_type": "code",
   "execution_count": 59,
   "metadata": {
    "scrolled": true
   },
   "outputs": [],
   "source": [
    "# endcoding categorical columns\n",
    "catinput_cols = [\"season\", \"gender\", \"home_location\", \"device_version\"]\n",
    "num_cols = [\"age\", \"total_amount\"]\n",
    "\n",
    "# define output cols\n",
    "catoutput_cols = [f\"{col}_index\" for col in catinput_cols]\n",
    "\n",
    "# initiate stages\n",
    "indexer = StringIndexer(inputCols= catinput_cols, outputCols= catoutput_cols)\n",
    "encoder = OneHotEncoder(inputCols= catoutput_cols, outputCols= [f\"{col}_vec\" for col in catinput_cols])\n",
    "assembler_cat = VectorAssembler(inputCols= [f\"{col}_vec\" for col in catinput_cols], outputCol= \"cat_features\")\n",
    "assembler = VectorAssembler(inputCols= [f\"{col}_vec\" for col in catinput_cols] + num_cols, outputCol= \"features\")"
   ]
  },
  {
   "cell_type": "code",
   "execution_count": 60,
   "metadata": {},
   "outputs": [],
   "source": [
    "# initiate k mean\n",
    "k_means = KMeans(featuresCol= \"features\", k= 2, seed=1)\n",
    "\n",
    "# building pipeline\n",
    "k_means_pipeline = Pipeline(stages= [indexer, encoder, assembler, k_means])\n",
    "\n",
    "# fit and transform \n",
    "k_means_pipeline_model = k_means_pipeline.fit(cluster_df)\n",
    "k_means_predictions = k_means_pipeline_model.transform(cluster_df)"
   ]
  },
  {
   "cell_type": "code",
   "execution_count": 61,
   "metadata": {},
   "outputs": [
    {
     "name": "stdout",
     "output_type": "stream",
     "text": [
      "Silhouette with squared euclidean distance = 0.9406262919639817\n"
     ]
    }
   ],
   "source": [
    "# evaluate model\n",
    "evaluator = ClusteringEvaluator()\n",
    "silhouette = evaluator.evaluate(k_means_predictions)\n",
    "print(\"Silhouette with squared euclidean distance = \" + str(silhouette))"
   ]
  },
  {
   "cell_type": "code",
   "execution_count": 62,
   "metadata": {},
   "outputs": [
    {
     "data": {
      "text/plain": [
       "DataFrame[season: string, gender: string, home_location: string, device_version: string, age: int, total_amount: float]"
      ]
     },
     "execution_count": 62,
     "metadata": {},
     "output_type": "execute_result"
    }
   ],
   "source": [
    "cluster_df.unpersist()"
   ]
  },
  {
   "cell_type": "markdown",
   "metadata": {},
   "source": [
    "**Find best k clusster**"
   ]
  },
  {
   "cell_type": "code",
   "execution_count": 63,
   "metadata": {},
   "outputs": [],
   "source": [
    "# select features vector\n",
    "features_df = k_means_predictions.select(\"features\")\n",
    "features_df = features_df.cache()"
   ]
  },
  {
   "cell_type": "code",
   "execution_count": 64,
   "metadata": {},
   "outputs": [
    {
     "name": "stdout",
     "output_type": "stream",
     "text": [
      "No of clusters: 2 Silhouette Score: 0.9406262919639817\n",
      "No of clusters: 3 Silhouette Score: 0.9096016220581032\n",
      "No of clusters: 4 Silhouette Score: 0.8870957233741441\n",
      "No of clusters: 5 Silhouette Score: 0.860237430976455\n",
      "No of clusters: 6 Silhouette Score: 0.8292810084506833\n",
      "No of clusters: 7 Silhouette Score: 0.8202442806845425\n",
      "No of clusters: 8 Silhouette Score: 0.7656152692731623\n",
      "No of clusters: 9 Silhouette Score: 0.7270845030860182\n"
     ]
    }
   ],
   "source": [
    "silhouette_arr=[]\n",
    "\n",
    "for k in range(2,10):\n",
    "    k_means= KMeans(featuresCol='features', k=k, seed=1)\n",
    "    model = k_means.fit(features_df)\n",
    "    predictions = model.transform(features_df)\n",
    "    silhouette = evaluator.evaluate(predictions)\n",
    "    silhouette_arr.append(silhouette)\n",
    "    print('No of clusters:',k,'Silhouette Score:',silhouette)"
   ]
  },
  {
   "cell_type": "markdown",
   "metadata": {},
   "source": [
    "### Part 4: Data Ethics, Privacy, and Security <a class=\"anchor\" name=\"part-4\"></a>  \n",
    "Please see the specification for this task and add markdown cells(word limit: 500)."
   ]
  },
  {
   "cell_type": "markdown",
   "metadata": {},
   "source": [
    "Concepts of data ethics, privacy, and security:\n",
    "**Data ethics** refers to the practices that aim to preserve all realated partners trust, in context of data management which involves all stages in data life cycle. By ensuring data management aligns with ethical principles and law.\n",
    "**Privacy** involves collecting and processing personal information in a maner that aligns with customer expectations for security and confidentiality.\n",
    "**Security** refers to confidentiality, integrity and data availability.\n",
    "\n",
    "In big data world, it poses serveral security risks that need to address, in order to protect sensitive data for both individual personal and organisation. Some or risks that associated with big data can be refered as follows:\n",
    " * Data storage security: it is vital to prevent unauthorized peronal accessing or data leak.\n",
    " * Data privacy: protecting personal or corporate information privacy is essential.\n",
    " * Data poisoning: hackers or malicious person might attemt to manipulate data input to influence output of big data.\n",
    "These risks can be prevented by some measures, including:\n",
    " * Encyption: Help preventing unauthorised access.\n",
    " * Authentication: ensure that only authorised personel can be asscess.\n",
    " * Auditing: regulary auditing will help to detect malicious behavior from both inside and outside."
   ]
  },
  {
   "cell_type": "markdown",
   "metadata": {},
   "source": [
    "## References:\n",
    "Please add your references below:"
   ]
  },
  {
   "cell_type": "markdown",
   "metadata": {},
   "source": [
    "1. apache spark ml - pyspark extract ROC curve? (n.d.). Stack Overflow. https://stackoverflow.com/questions/52847408/pyspark-extract-roc-curve\n",
    "2. MLlib: Main Guide - Spark 2.4.4 Documentation. (2019). Apache.org. https://spark.apache.org/docs/latest/ml-guide.html\n",
    "3. Edquist, A., Grennan, L., Griffiths, S., & Rowshankish, K. (2022, September 23). Data ethics: What it means and what it takes | McKinsey. Www.mckinsey.com. https://www.mckinsey.com/capabilities/mckinsey-digital/our-insights/data-ethics-what-it-means-and-what-it-takes\n",
    "4. Brown, A. (2020, June 17). Digital Ethics & Privacy: Doing the Right Thing with Data. RGP. https://rgp.com/human-insight/digital-ethics-privacy-doing-the-right-thing-with-data/\n",
    "5. What is Data Privacy? Definition and Compliance Guide. (n.d.). Talend - a Leader in Data Integration & Data Integrity. https://www.talend.com/uk/resources/data-privacy/\n",
    "6. Buried under big data: security issues, challenges, concerns. (2018, April 4). Scnsoft.com. https://www.scnsoft.com/blog/big-data-security-challenges\n",
    "7. Tierney, M. (2021, July 26). Data Security Explained: Challenges and Solutions. Https://Blog.netwrix.com/. https://blog.netwrix.com/2021/07/26/data-security/\n",
    "\n",
    "‌"
   ]
  }
 ],
 "metadata": {
  "kernelspec": {
   "display_name": "Python 3 (ipykernel)",
   "language": "python",
   "name": "python3"
  },
  "language_info": {
   "codemirror_mode": {
    "name": "ipython",
    "version": 3
   },
   "file_extension": ".py",
   "mimetype": "text/x-python",
   "name": "python",
   "nbconvert_exporter": "python",
   "pygments_lexer": "ipython3",
   "version": "3.10.11"
  }
 },
 "nbformat": 4,
 "nbformat_minor": 4
}
